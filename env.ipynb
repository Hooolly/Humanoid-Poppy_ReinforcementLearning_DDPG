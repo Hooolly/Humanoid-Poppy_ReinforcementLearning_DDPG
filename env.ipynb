{
 "cells": [
  {
   "cell_type": "code",
   "execution_count": 10,
   "metadata": {},
   "outputs": [
    {
     "ename": "ImportError",
     "evalue": "No module named pyglet",
     "output_type": "error",
     "traceback": [
      "\u001b[0;31m---------------------------------------------------------------------------\u001b[0m",
      "\u001b[0;31mImportError\u001b[0m                               Traceback (most recent call last)",
      "\u001b[0;32m<ipython-input-10-a1df7eebc0f3>\u001b[0m in \u001b[0;36m<module>\u001b[0;34m()\u001b[0m\n\u001b[1;32m      1\u001b[0m \u001b[0;32mimport\u001b[0m \u001b[0mnumpy\u001b[0m \u001b[0;32mas\u001b[0m \u001b[0mnp\u001b[0m\u001b[0;34m\u001b[0m\u001b[0m\n\u001b[1;32m      2\u001b[0m \u001b[0;34m\u001b[0m\u001b[0m\n\u001b[0;32m----> 3\u001b[0;31m \u001b[0;32mimport\u001b[0m \u001b[0mpyglet\u001b[0m\u001b[0;34m\u001b[0m\u001b[0m\n\u001b[0m",
      "\u001b[0;31mImportError\u001b[0m: No module named pyglet"
     ]
    }
   ],
   "source": [
    "import numpy as np\n",
    "\n",
    "import pyglet"
   ]
  },
  {
   "cell_type": "code",
   "execution_count": 4,
   "metadata": {},
   "outputs": [],
   "source": [
    "class ArmEnv(object):\n",
    "    viewer = None       # 首先没有 viewer\n",
    "\n",
    "    def __init__(self):\n",
    "        pass\n",
    "    def step(self, action):\n",
    "        pass\n",
    "    def reset(self):\n",
    "        pass\n",
    "    def render(self):\n",
    "        if self.viewer is None: # 如果调用了 render, 而且没有 viewer, 就生成一个\n",
    "            self.viewer = Viewer()\n",
    "        self.viewer.render()    # 使用 Viewer 中的 render 功能"
   ]
  },
  {
   "cell_type": "code",
   "execution_count": 6,
   "metadata": {},
   "outputs": [
    {
     "ename": "IndentationError",
     "evalue": "expected an indented block (<ipython-input-6-42be673c1fed>, line 5)",
     "output_type": "error",
     "traceback": [
      "\u001b[0;36m  File \u001b[0;32m\"<ipython-input-6-42be673c1fed>\"\u001b[0;36m, line \u001b[0;32m5\u001b[0m\n\u001b[0;31m    def render(self):\u001b[0m\n\u001b[0m      ^\u001b[0m\n\u001b[0;31mIndentationError\u001b[0m\u001b[0;31m:\u001b[0m expected an indented block\n"
     ]
    }
   ],
   "source": [
    "\n",
    "class Viewer(pyglet.window.Window):\n",
    "    def __init__(self, arm_info):\n",
    "        # 画出手臂等\n",
    "    def render(self):\n",
    "        # 刷新并呈现在屏幕上\n",
    "    def on_draw(self):\n",
    "        # 刷新手臂等位置\n",
    "    def _update_arm(self):\n",
    "        # 更新手臂的位置信息"
   ]
  },
  {
   "cell_type": "code",
   "execution_count": null,
   "metadata": {},
   "outputs": [],
   "source": []
  }
 ],
 "metadata": {
  "kernelspec": {
   "display_name": "Python 3",
   "language": "python",
   "name": "python3"
  },
  "language_info": {
   "codemirror_mode": {
    "name": "ipython",
    "version": 2
   },
   "file_extension": ".py",
   "mimetype": "text/x-python",
   "name": "python",
   "nbconvert_exporter": "python",
   "pygments_lexer": "ipython2",
   "version": "2.7.15"
  }
 },
 "nbformat": 4,
 "nbformat_minor": 2
}
